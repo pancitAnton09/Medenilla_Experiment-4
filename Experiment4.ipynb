{
 "cells": [
  {
   "cell_type": "markdown",
   "id": "ef05358e-9a79-4cde-9fae-39322f444a67",
   "metadata": {},
   "source": [
    "# Experiment 4\n",
    "## DATA WRANGLING AND DATA VISUALIZATION"
   ]
  },
  {
   "cell_type": "markdown",
   "id": "ee415733-c623-42f8-acc6-5cc54689aac7",
   "metadata": {},
   "source": [
    "### ECE BOARD EXAM PROBLEM"
   ]
  },
  {
   "cell_type": "code",
   "execution_count": null,
   "id": "e5879c77-d1bd-46f1-9166-cb286adba258",
   "metadata": {},
   "outputs": [],
   "source": [
    "# Access Pandas' function\n",
    "import pandas as pd"
   ]
  },
  {
   "cell_type": "code",
   "execution_count": null,
   "id": "e50b58d1-628b-4053-b321-11a4785eff15",
   "metadata": {},
   "outputs": [],
   "source": [
    "#Import the .csv file as dataframe called list\n",
    "list = pd.read_excel('board2.xlsx')"
   ]
  },
  {
   "cell_type": "markdown",
   "id": "7b700247-7e4f-483e-bdd2-24cf07653c0b",
   "metadata": {},
   "source": [
    "### PART 1"
   ]
  },
  {
   "cell_type": "code",
   "execution_count": null,
   "id": "a25b8676-ad39-435b-911f-138787f67d92",
   "metadata": {},
   "outputs": [],
   "source": [
    "#Create dataframe Vis with columns “Name”, “Gender”, “Track”, and “Math”, where hometown is constant as Visayas and Math grade is less than 70\n",
    "Vis = list[(list['Hometown'] == 'Visayas') & (list['Math']<70)][['Name','Gender','Track','Math']]\n",
    "Vis"
   ]
  },
  {
   "cell_type": "code",
   "execution_count": null,
   "id": "80c2e671-8bb8-4554-b523-ea8d0ea1b5f8",
   "metadata": {},
   "outputs": [],
   "source": [
    "# Create dataframe Instru with columns “Name”, “GEAS”, “Electronics” \n",
    "# where track is Instrumentation, Hometown is Luzon and Electronics grade is greater than 70\n",
    "Instru = list[(list['Track'] == 'Instrumentation') & (list['Hometown'] == 'Luzon') & (list['Electronics'] > 70)][['Name', 'GEAS', 'Electronics']]\n",
    "Instru"
   ]
  },
  {
   "cell_type": "code",
   "execution_count": null,
   "id": "f25b0eab-3df5-4d8b-b499-453d7d61eebd",
   "metadata": {},
   "outputs": [],
   "source": [
    "#Save the file as .xlsx\n",
    "Instru.to_excel('Instru.xlsx', index = False)"
   ]
  },
  {
   "cell_type": "code",
   "execution_count": null,
   "id": "6456ce13-40a0-4ae8-8676-bd3835ad17eb",
   "metadata": {},
   "outputs": [],
   "source": [
    "# Create a column named Average and compute for the weighted average for each subjects\n",
    "list['Average'] = list[['Math','Electronics','GEAS','Communication']].mean(axis=1)"
   ]
  },
  {
   "cell_type": "code",
   "execution_count": null,
   "id": "13661767-80e1-40f6-bff1-85fc44a30a42",
   "metadata": {},
   "outputs": [],
   "source": [
    "# Create dataframe Mindy with columns 'Name','Track','Electronics', and 'Average'\n",
    "# where hometown is mindanao, gender is female, and average is greater than equal to 55\n",
    "Mindy = list[(list['Hometown'] == 'Mindanao') & (list['Gender'] == 'Female') & (list['Average'] >= 55)][['Name', 'Track', 'Electronics','Average']]\n",
    "Mindy"
   ]
  },
  {
   "cell_type": "code",
   "execution_count": null,
   "id": "200cb612-b5d0-43ae-aff4-19f9a58df30a",
   "metadata": {},
   "outputs": [],
   "source": [
    "#Save the file as .xlsx\n",
    "Mindy.to_excel('Mindy.xlsx', index=False)"
   ]
  },
  {
   "cell_type": "markdown",
   "id": "e795787b-4bd0-4920-8376-c52ff3a45f76",
   "metadata": {},
   "source": [
    "### PART 2"
   ]
  },
  {
   "cell_type": "code",
   "execution_count": null,
   "id": "1ce6c2a5-959e-4dee-ae23-81820933ca42",
   "metadata": {},
   "outputs": [],
   "source": [
    "#Access pandas, matplot, seaborn libraries\n",
    "import pandas as pd\n",
    "import matplotlib.pyplot as plt\n",
    "import seaborn as sns"
   ]
  },
  {
   "cell_type": "markdown",
   "id": "52c4ddc6-0658-46c2-a292-45f13d2ead54",
   "metadata": {},
   "source": [
    "#### Barplot 1"
   ]
  },
  {
   "cell_type": "code",
   "execution_count": null,
   "id": "03e60b6f-028a-4b28-9420-7d4805a1b35c",
   "metadata": {},
   "outputs": [],
   "source": [
    "#Define the size of the figure to be used\n",
    "plt.figure(figsize=(30, 10))\n",
    "\n",
    "#Specify the layout of subplots in a grid (no.of rows, no. of columns, position  in the grid)\n",
    "plt.subplot(1, 3, 1)\n",
    "\n",
    "#Define the color of the palette using hex codes\n",
    "custom_palette = ['#3498db', '#e74c3c', '#2ecc71']  # Example: Blue, Red, Green\n",
    "\n",
    "#Create a boxplot using Seaborn (sns) that visualizes the distribution of Average grades for each category in the Track column.\n",
    "sns.barplot(x='Track', y='Average', data=list, hue='Track', palette=custom_palette)\n",
    "\n",
    "# Add white grid background for better visualization\n",
    "sns.set(style=\"whitegrid\")\n",
    "\n",
    "#Label the title of the barplot\n",
    "plt.title('Average Grade by Track')\n",
    "\n",
    "#Determine the rotation of the x-axis labels\n",
    "plt.xticks(rotation=0)\n",
    "\n",
    "plt.show()"
   ]
  },
  {
   "cell_type": "markdown",
   "id": "af76fa94-7226-49fb-9da0-f921e9f13b04",
   "metadata": {},
   "source": [
    "#### Barplot 2"
   ]
  },
  {
   "cell_type": "code",
   "execution_count": null,
   "id": "01ae6a38-7bd9-4c73-93cf-cdc9148011c8",
   "metadata": {},
   "outputs": [],
   "source": [
    "#Define the size of the figure to be used\n",
    "plt.figure(figsize=(20, 10))\n",
    "\n",
    "#Specify the layout of subplots in a grid (no.of rows, no. of columns, position  in the grid)\n",
    "plt.subplot(1, 3,1)\n",
    "\n",
    "#Define the color of the palette using hex codes\n",
    "custom_palette = ['#ADD8E6', '#FFB6C1']  # Example: Blue, Red, Green\n",
    "\n",
    "#Create a boxplot using Seaborn (sns) that visualizes the distribution of Average grades for each category in the Track column.\n",
    "sns.barplot(x='Gender', y='Average', data=list, hue='Gender', palette=custom_palette)\n",
    "\n",
    "#Add white grid background for better visualization\n",
    "sns.set(style=\"whitegrid\")\n",
    "\n",
    "#Label the title of the barplot\n",
    "plt.title('Average Grade by Gender')\n",
    "\n",
    "#Determine the rotation of the x-axis labels\n",
    "plt.xticks(rotation=0)\n",
    "\n",
    "plt.show()"
   ]
  },
  {
   "cell_type": "markdown",
   "id": "a789bb0f-0002-43e7-a87f-a5a3bccc9cba",
   "metadata": {},
   "source": [
    "#### Barplot 3"
   ]
  },
  {
   "cell_type": "code",
   "execution_count": null,
   "id": "0a9c8822-4196-43e5-8d83-2451abd099b3",
   "metadata": {},
   "outputs": [],
   "source": [
    "#Define the size of the figure to be used\n",
    "plt.figure(figsize=(30, 10))\n",
    "\n",
    "#Specify the layout of subplots in a grid (no.of rows, no. of columns, position  in the grid)\n",
    "plt.subplot(1, 3, 1)\n",
    "\n",
    "#Define the color of the palette using hex codes\n",
    "custom_palette = ['#1E90FF', '#FF6347', '#32CD32']  # Example: Blue, Red, Green\n",
    "\n",
    "#Create a boxplot using Seaborn (sns) that visualizes the distribution of Average grades for each category in the Track column.\n",
    "sns.barplot(x='Hometown', y='Average', data=list, hue='Hometown', palette=custom_palette)\n",
    "\n",
    "#Add white grid background for better visualization\n",
    "sns.set(style=\"whitegrid\")\n",
    "\n",
    "#Label the title of the barplot\n",
    "plt.title('Average Grade by Track')\n",
    "\n",
    "#Determine the rotation of the x-axis labels\n",
    "plt.xticks(rotation=0)\n",
    "\n",
    "plt.show()"
   ]
  }
 ],
 "metadata": {
  "kernelspec": {
   "display_name": "Python 3 (ipykernel)",
   "language": "python",
   "name": "python3"
  },
  "language_info": {
   "codemirror_mode": {
    "name": "ipython",
    "version": 3
   },
   "file_extension": ".py",
   "mimetype": "text/x-python",
   "name": "python",
   "nbconvert_exporter": "python",
   "pygments_lexer": "ipython3",
   "version": "3.12.4"
  }
 },
 "nbformat": 4,
 "nbformat_minor": 5
}
